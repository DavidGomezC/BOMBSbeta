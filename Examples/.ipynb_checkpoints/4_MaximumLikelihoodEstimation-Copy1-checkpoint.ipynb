{
 "cells": [
  {
   "cell_type": "code",
   "execution_count": 1,
   "metadata": {},
   "outputs": [
    {
     "name": "stderr",
     "output_type": "stream",
     "text": [
      "┌ Info: Precompiling BOMBS [9fa3cf97-96f5-4594-8ac7-dc80311f2c9e]\n",
      "└ @ Base loading.jl:1260\n"
     ]
    },
    {
     "name": "stdout",
     "output_type": "stream",
     "text": [
      "\n",
      "                                                  *\n",
      "                                    **           * *           *                          **\n",
      "                                   * *          *   *         * *                       **  *\n",
      "                                  *  *         *    *        *  **                    **     *\n",
      "                         *       *   *  *   ***     *     ***    **                 **        *      *\n",
      "                        * *     *    * * * *         **  *         **      *      **           *    * *   ***\n",
      "                       *   *   *     **   *            **            **   * * ****              ****   ***   ***\n",
      "                   ** *     ***                                        * *   *                                  *\n",
      "                  *  *                                                  *                                        *\n",
      "                 *            ___________   __________   ___  ___   ___________   __________                      ***\n",
      "                **           /  _____   /  / ______  /  /   \\/   \\  \\   _____  \\  \\  _______\\                        **\n",
      "               *            /  /____/  /  / /     / /  /          \\  \\  \\____\\  \\  \\ \\________                         *\n",
      "             **            /  _____   /  / /     / /  /            \\  \\   _____  \\  \\________ \\                       *\n",
      "           **             /  /    /  /  / /     / /  /   /\\____/\\   \\  \\  \\    \\  \\          \\ \\                    **\n",
      "         **              /  /____/  /  / /_____/ /  /   /        \\   \\  \\  \\____\\  \\   _______\\ \\                 **\n",
      "        *               /__________/  /_________/  /__ /          \\___\\  \\__________\\  \\_________\\ V 0.1.0       **\n",
      "         ****                                                *                                                  *\n",
      "             *                          ***                 * *                                                *\n",
      "              *   ***                  *   *     *         *   *                  *                      **   *\n",
      "               * *   **             ***     *   * ***     *     *   *          *** *           **       *  * *\n",
      "                *      **      *   *         * *    *    *       * * **     ***     *         *  *     *    *\n",
      "                         **   * * *           *     *   *         *    ** **         *       *    *   *\n",
      "                           * *   *                   * *                 *            *     *      * *\n",
      "                            *                         *                                *   *        *\n",
      "                                                                                        * *\n",
      "                                                                                         *\n",
      "    \n"
     ]
    }
   ],
   "source": [
    "using BOMBS"
   ]
  },
  {
   "cell_type": "code",
   "execution_count": 2,
   "metadata": {},
   "outputs": [
    {
     "name": "stdout",
     "output_type": "stream",
     "text": [
      "\n",
      "                      ___________   __________   ___  ___   ___________   __________\n",
      "                     /  _____   /  / ______  /  /   \\/   \\  \\   _____  \\  \\  _______\\\r\n",
      "                    /  /____/  /  / /     / /  /          \\  \\  \\____\\  \\  \\ \\________\n",
      "                   /  _____   /  / /     / /  /            \\  \\   _____  \\  \\________ \\\r\n",
      "                  /  /    /  /  / /     / /  /   /\\____/\\   \\  \\  \\    \\  \\          \\ \\\r\n",
      "                 /  /____/  /  / /_____/ /  /   /        \\   \\  \\  \\____\\  \\   _______\\ \\\r\n",
      "                /__________/  /_________/  /__ /          \\___\\  \\__________\\  \\_________\\\r\n",
      "\n",
      "                \n"
     ]
    }
   ],
   "source": [
    "# Just to print the nice BOMBS logo\n",
    "printLogo()"
   ]
  },
  {
   "cell_type": "code",
   "execution_count": 3,
   "metadata": {},
   "outputs": [
    {
     "name": "stdout",
     "output_type": "stream",
     "text": [
      "\n",
      "----------------------------------------- MODEL GENERATION -----------------------------------------\n",
      "The model has been generated in the directory: \n",
      "                 E:\\UNI\\D_Drive\\PhD\\JULIAlang\\Generalisation_PLacExample\\Examples\\ModelsFunctions\\PLacExample_Model.jl\n",
      "--------------------------------------------------------------------------------------\n",
      "\n"
     ]
    }
   ],
   "source": [
    "# First we need to generate the model (the package will not do it automatically)\n",
    "\n",
    "# Generate the empty dictionary with the model_def structure\n",
    "model_def = defModStruct()\n",
    "\n",
    "# Fill the different elements of the dictionary with your model specifications. See above how ^\n",
    "model_def[\"NameF\"] = [\"PLacExample\"];\n",
    "model_def[\"nStat\"] = [4];\n",
    "model_def[\"nPar\"] = [9];\n",
    "model_def[\"nInp\"] = [1];\n",
    "model_def[\"stName\"] = [\"Cit_mrna\",\"Cit_foldedP\",\"Cit_fluo\",\"Cit_AU\"];\n",
    "\n",
    "model_def[\"inpName\"] = [\"IPTG\"];\n",
    "\n",
    "model_def[\"parName\"] = [\"alpha1\",\"Vm1\",\"h1\",\"Km1\",\"d1\",\n",
    "                            \"alpha2\",\"d2\",\"Kf\",\"sc_molec\"];\n",
    "model_def[\"eqns\"] = [\"dCit_mrna=alpha1+Vm1*(IPTG^h1/(Km1^h1+IPTG^h1))-d1*Cit_mrna\",\n",
    "                    \"dCit_foldedP=alpha2*Cit_mrna-(d2+Kf)*Cit_foldedP\",\n",
    "                    \"dCit_fluo=Kf*Cit_foldedP-d2*Cit_fluo\",\n",
    "                    \"dCit_AU = sc_molec*dCit_fluo\"];\n",
    "\n",
    "model_def[\"Y0eqs\"] = [\"Cit_mrna = (alpha1 + Vm1*(IPTG^h1/(Km1^h1+IPTG^h1)))/d1;\",\n",
    "                      \"Cit_foldedP = (alpha2*Cit_mrna)/(Kf+d2);\",\n",
    "                      \"Cit_fluo = (Kf*Cit_foldedP)/d2;\",\n",
    "                      \"Cit_AU= sc_molec*Cit_fluo;\"]; \n",
    "\n",
    "model_def[\"Y0ON\"] = [];\n",
    "model_def[\"tols\"] = [1e-9, 1e-9];\n",
    "\n",
    "# Generate the scripts with the ODEs and the step-wise implementation\n",
    "model_def = GenerateModel(model_def);"
   ]
  },
  {
   "cell_type": "code",
   "execution_count": 4,
   "metadata": {},
   "outputs": [
    {
     "name": "stdout",
     "output_type": "stream",
     "text": [
      "\n",
      "\n",
      "                CALL defMLEStruct()\n",
      "\n",
      "mle_def[\"Nexp\"] = [];\n",
      "        # Integer indicating the number of experiments to be simulated\n",
      "\n",
      "mle_def[\"finalTime\"] = [];\n",
      "        # Vector of final times for each simulation (initial time will always be assumed as 0,\n",
      "        # so please consider that).\n",
      "\n",
      "mle_def[\"switchT\"] = [];\n",
      "        # Array with the switching times of the inducer in the simulation (time 0 and final\n",
      "        # time need to be considered)\n",
      "\n",
      "mle_def[\"y0\"] = [];\n",
      "        # Array (single simulation) of Y0s for the simulations for the\n",
      "        # experiment. If you are computing the steady-state this vector might not be used, however, you\n",
      "        # still need to introduce it with some random numbers.\n",
      "\n",
      "mle_def[\"preInd\"] = [];\n",
      "        # Vector of numbers with the values for the stimuli (inducer) in the over-night. It might be the case\n",
      "        # that this entry is not required since only the y0 vector is considered for the initial point of\n",
      "        # the simulation. However, you still need to introduce a random value for it to avoid future issues.\n",
      "\n",
      "mle_def[\"uInd\"] = [];\n",
      "        # Array containing the values for the stimuli at each step for each experiment. In each sub-array, columns\n",
      "        # indicate a step and rows indicate an inducer (if multiple ones are considered).\n",
      "\n",
      "mle_def[\"tsamps\"] = [];\n",
      "        # Array of sampling time vectors for the experiments.\n",
      "\n",
      "mle_def[\"plot\"] = [];\n",
      "        # Boolean or yes/no string to save the resulting simulations in the results directory (false will be\n",
      "        # considered as default).\n",
      "\n",
      "mle_def[\"flag\"] = [];\n",
      "        # String to attach a unique flag to the generated scripts and result files so they are not overwritten.\n",
      "        # If empty, nothing will be added.\n",
      "\n",
      "mle_def[\"thetaMAX\"] = [];\n",
      "        # Vector containing the maximum bounds for theta (no files can be introduced)\n",
      "\n",
      "mle_def[\"thetaMIN\"] = [];\n",
      "        # Vector containing the minimum bounds for theta (no files can be introduced)\n",
      "\n",
      "mle_def[\"runs\"] = [];\n",
      "        # Integer indicating how many runs of Optimisation will be done. You will get as many theta vectors\n",
      "        # as runs selected.\n",
      "\n",
      "mle_def[\"parallel\"] = [];\n",
      "        # Boolean or yes/no string indicating if the different runs want to be done in parallel (true) or\n",
      "        # series (false). Default is false.\n",
      "\n",
      "\n",
      "    # For the two following fields, you can introduce a string pointing to the observable files (same strings in)\n",
      "    #     both fields having the same structure as the ones generated in the PseudoData section. If multiple theta are\n",
      "    #     considered in the file, then the covariance matrix will be taken.\n",
      "mle_def[\"DataMean\"] = [];\n",
      "        # Array containing the vector of means for each experiment.\n",
      "\n",
      "mle_def[\"DataError\"] = [];\n",
      "        # Array containing the vector or matrices (covariance included) of errors for the data for each experiment.\n",
      "\n",
      "                                        IMPORTANT!!!!\n",
      "\n",
      "        # Whilst each entry (experiment) of DataMean can be a matrix where each column is an observable of the\n",
      "        # system, for DataError this is not the case. Each entry of the array (experiment) will have as many\n",
      "        # entries as observables, where it would be a vector of errors or a matrix. This is done this way to\n",
      "        # generalise the presence of both options.\n",
      "\n",
      "mle_def[\"Obs\"] = [];\n",
      "        # States of the model that are observables. This is either a vector of strings, a vector of integers\n",
      "        # indicating which entries from model_def[\"stName\"] are observables. If a vector of\n",
      "        # strings is given, these could also be an expression combining states (Only +,-,*,/ and ^ will be\n",
      "        # considered).\n",
      "\n",
      "mle_def[\"OPTsolver\"] = [];\n",
      "        # For now we only use the package BlackBoxOptim, so any of their options can be used. The default\n",
      "        # is adaptive_de_rand_1_bin_radiuslimited. Please, introduce it as a string.\n",
      "\n",
      "mle_def[\"MaxTime\"] = [];\n",
      "        # Integer indicating the maximum number of time allowed for the optimisation as a stop criterion.\n",
      "        # If this is selected MaxFuncEvals has to be empty (only 1 stop criterion). If both are empty,\n",
      "        # the default will be to do 1000 function evaluations\n",
      "\n",
      "mle_def[\"MaxFuncEvals\"] = [];\n",
      "        # Integer indicating the maximum number of function evaluations allowed for the optimisation as a\n",
      "        # stop criterion. If this is selected MaxTime has to be empty (only 1 stop criterion). If both are\n",
      "        # empty, the default will be to do 1000 function evaluations\n",
      "\n"
     ]
    }
   ],
   "source": [
    "# This function gives you information about the structure necessary to generate the model and how to call it. \n",
    "# If you do not know how to call a specific section, just call the function with no input (infoAll()) to get the information.\n",
    "infoAll(\"mle\")"
   ]
  },
  {
   "cell_type": "markdown",
   "metadata": {},
   "source": [
    "# MLE Example 1\n",
    "This example estimates the parameters of our model 3 times in series (one after the other)"
   ]
  },
  {
   "cell_type": "code",
   "execution_count": 4,
   "metadata": {},
   "outputs": [
    {
     "data": {
      "text/plain": [
       "Dict{Any,Any} with 19 entries:\n",
       "  \"thetaMIN\"     => Any[]\n",
       "  \"parallel\"     => Any[]\n",
       "  \"DataError\"    => Any[]\n",
       "  \"OPTsolver\"    => Any[]\n",
       "  \"Nexp\"         => Any[]\n",
       "  \"MaxTime\"      => Any[]\n",
       "  \"y0\"           => Any[]\n",
       "  \"uInd\"         => Any[]\n",
       "  \"thetaMAX\"     => Any[]\n",
       "  \"Obs\"          => Any[]\n",
       "  \"switchT\"      => Any[]\n",
       "  \"preInd\"       => Any[]\n",
       "  \"finalTime\"    => Any[]\n",
       "  \"MaxFuncEvals\" => Any[]\n",
       "  \"tsamps\"       => Any[]\n",
       "  \"flag\"         => Any[]\n",
       "  \"plot\"         => Any[]\n",
       "  \"DataMean\"     => Any[]\n",
       "  \"runs\"         => Any[]"
      ]
     },
     "execution_count": 4,
     "metadata": {},
     "output_type": "execute_result"
    }
   ],
   "source": [
    "mle_def = defMLEStruct()"
   ]
  },
  {
   "cell_type": "code",
   "execution_count": 5,
   "metadata": {},
   "outputs": [
    {
     "data": {
      "text/plain": [
       "Dict{Any,Any} with 19 entries:\n",
       "  \"thetaMIN\"     => Any[]\n",
       "  \"parallel\"     => Any[]\n",
       "  \"DataError\"    => Any[]\n",
       "  \"OPTsolver\"    => Any[]\n",
       "  \"Nexp\"         => [2]\n",
       "  \"MaxTime\"      => Any[]\n",
       "  \"y0\"           => [[10, 10, 10, 10], [10, 10, 10, 10]]\n",
       "  \"uInd\"         => [[5.0, 100.0, 1.0], [7.5]]\n",
       "  \"thetaMAX\"     => Any[]\n",
       "  \"Obs\"          => Any[]\n",
       "  \"switchT\"      => [[0, 500, 1000, 1439], [0, 1439]]\n",
       "  \"preInd\"       => [[0], [0]]\n",
       "  \"finalTime\"    => [1439, 1439]\n",
       "  \"MaxFuncEvals\" => Any[]\n",
       "  \"tsamps\"       => [[0, 5, 10, 15, 20, 25, 30, 35, 40, 45  …  1390, 1395, 1400…\n",
       "  \"flag\"         => [\"Example1\"]\n",
       "  \"plot\"         => Bool[1]\n",
       "  \"DataMean\"     => Any[]\n",
       "  \"runs\"         => Any[]"
      ]
     },
     "execution_count": 5,
     "metadata": {},
     "output_type": "execute_result"
    }
   ],
   "source": [
    "# If you already have a simul_def file generated you can use the function SimToMle to extract the relevant contents\n",
    "simul_def = defSimulStruct()\n",
    "simul_def[\"Nexp\"] = [2]; \n",
    "simul_def[\"finalTime\"] = [1439, 1439]; \n",
    "simul_def[\"switchT\"] = [[0, 500, 1000, 1439],[0, 1439]]; \n",
    "simul_def[\"y0\"] = [[10,10,10,10],[10,10,10,10]]; \n",
    "simul_def[\"preInd\"] = [[0],[0]]; \n",
    "simul_def[\"uInd\"] = [[5, 100, 1],[7.5]]; \n",
    "simul_def[\"theta\"] = [0.000377125304442752*60, 0.00738924359598526*60, 1.53333782244337, 5.01927275636639,\n",
    "    0.00118831480244382*60, 0.0461264539194078*60, 0.000475563708997018*60, 0.000301803966012407*60, 68.8669567134881]; # Could be the directory and file name of a csv.\n",
    "simul_def[\"tsamps\"] = [collect(0:5:1439),collect(0:10:1439)];\n",
    "simul_def[\"plot\"] = [true];\n",
    "simul_def[\"flag\"] = [\"Example1\"];\n",
    "mle_def = SimToMle(mle_def, simul_def)"
   ]
  },
  {
   "cell_type": "code",
   "execution_count": 13,
   "metadata": {},
   "outputs": [],
   "source": [
    "# And now you can fill the rest of the fields: \n",
    "\n",
    "mle_def[\"thetaMAX\"] = [0.4950,0.4950,4.9,10,0.23,6.8067,0.2449,0.0217,10]; \n",
    "mle_def[\"thetaMIN\"] = [3.88e-5,3.88e-2,0.5,2,7.7e-3,0.2433,5.98e-5,0.012,0.001]; \n",
    "mle_def[\"runs\"] = [3]; \n",
    "mle_def[\"parallel\"] = []; \n",
    "\n",
    "# For the two following fields, you can introduce a string pointing to the observable files (same strings in)\n",
    "#     both fields having the same structure as the ones generated in the PseudoData section. If multiple theta are\n",
    "#     considered in the file, then the covariance matrix will be taken. \n",
    "mle_def[\"DataMean\"] = [\"PseudoDataFiles\\\\TestPLac_EXP1_Example1b_Observables.csv\", \"PseudoDataFiles\\\\TestPLac_EXP2_Example1b_Observables.csv\"]; \n",
    "mle_def[\"DataError\"] = mle_def[\"DataMean\"]; \n",
    "\n",
    "mle_def[\"Obs\"] = [\"3*Cit_AU\"]; \n",
    "\n",
    "\n",
    "mle_def[\"OPTsolver\"] = []; \n",
    "mle_def[\"MaxTime\"] = [10]; # Note that this is selected with a low value to allow the example to run quickly. This will lead to sub-optimal solutions.\n",
    "mle_def[\"MaxFuncEvals\"] = []; "
   ]
  },
  {
   "cell_type": "code",
   "execution_count": 14,
   "metadata": {},
   "outputs": [],
   "source": [
    "checkStructMLE(model_def, mle_def);"
   ]
  },
  {
   "cell_type": "code",
   "execution_count": 19,
   "metadata": {},
   "outputs": [
    {
     "data": {
      "text/plain": [
       "1-element Array{Any,1}:\n",
       " [246.9028716, 250.8796099, 273.5293018, 322.3709123, 397.6462004, 495.8516651, 611.8900455, 740.3275673, 876.0815874, 1014.753547  …  623.1771627, 623.1401956, 623.1081398, 623.0803432, 623.0562398, 623.0353391, 623.0172157, 623.0015007, 622.9878742, 622.9760587]"
      ]
     },
     "execution_count": 19,
     "metadata": {},
     "output_type": "execute_result"
    }
   ],
   "source": [
    "mle_def[\"DataError\"][1]"
   ]
  },
  {
   "cell_type": "code",
   "execution_count": null,
   "metadata": {},
   "outputs": [],
   "source": []
  },
  {
   "cell_type": "code",
   "execution_count": 8,
   "metadata": {},
   "outputs": [
    {
     "name": "stdout",
     "output_type": "stream",
     "text": [
      "\n",
      "----------------------------------------- SCRIPTS -----------------------------------------\n",
      "MLE scripts have been generated in the directory: \n",
      "         E:\\UNI\\D_Drive\\PhD\\JULIAlang\\Generalisation_PLacExample\\Examples\\Results\\PLacExample_2021-01-06\\MLEscripts\\PLacExample_MLE.jl\n",
      "--------------------------------------------------------------------------------------\n",
      "\n"
     ]
    }
   ],
   "source": [
    "\n",
    "\n",
    "\n",
    "\n",
    "# MLECostGen(model_def, mle_def)"
   ]
  },
  {
   "cell_type": "code",
   "execution_count": 15,
   "metadata": {},
   "outputs": [
    {
     "name": "stdout",
     "output_type": "stream",
     "text": [
      "\n",
      "----------------------------------------- SCRIPTS -----------------------------------------\n",
      "MLE scripts have been generated in the directory: \n",
      "         E:\\UNI\\D_Drive\\PhD\\JULIAlang\\Generalisation_PLacExample\\Examples\\Results\\PLacExample_2021-01-06\\MLEscripts\\PLacExample_MLE.jl\n",
      "--------------------------------------------------------------------------------------\n",
      "\n",
      "----------------------------------------- OPTIMISATION STARTS! -----------------------------------------\n",
      " 31.492879 seconds (52.99 M allocations: 4.523 GiB, 1.68% gc time)\n",
      "----------------------------------------- OPTIMISATION ENDED -----------------------------------------\n",
      "\n",
      "----------------------------------------- RESULTS -----------------------------------------\n",
      "MLE results are saved in the directory: \n",
      "                 E:\\UNI\\D_Drive\\PhD\\JULIAlang\\Generalisation_PLacExample\\Examples\\Results\\PLacExample_2021-01-06\n",
      "Under the name PLacExample_2021-01-06_MLEresults_Example1.jld\n",
      "--------------------------------------------------------------------------------------\n",
      "\n",
      "\n",
      "----------------------------------------- RESULTS -----------------------------------------\n",
      "Simulation results are saved in the directory: \n",
      "                 E:\\UNI\\D_Drive\\PhD\\JULIAlang\\Generalisation_PLacExample\\Examples\\Results\\PLacExample_2021-01-06\n",
      "Under the name PLacExample_2021-01-06_SimulationResults_MLEsimulations1.jld\n",
      "--------------------------------------------------------------------------------------\n",
      "\n",
      "\n",
      "----------------------------------------- RESULTS -----------------------------------------\n",
      "Simulation results are saved in the directory: \n",
      "                 E:\\UNI\\D_Drive\\PhD\\JULIAlang\\Generalisation_PLacExample\\Examples\\Results\\PLacExample_2021-01-06\n",
      "Under the name PLacExample_2021-01-06_SimulationResults_MLEsimulations2.jld\n",
      "--------------------------------------------------------------------------------------\n",
      "\n",
      "\n",
      "----------------------------------------- PLOTS -----------------------------------------\n",
      "Simulation PLOTS are saved in the directory: \n",
      "                 E:\\UNI\\D_Drive\\PhD\\JULIAlang\\Generalisation_PLacExample\\Examples\\Results\\PLacExample_2021-01-06\n",
      "Under the names PlotMLEResults_Exp(i)_Example1.png and Plot_MLEConvergence_Example1.png\n",
      "--------------------------------------------------------------------------------------\n",
      "\n"
     ]
    }
   ],
   "source": [
    "mle_res, model_def, mle_def = MLEtheta(model_def, mle_def);"
   ]
  },
  {
   "cell_type": "code",
   "execution_count": null,
   "metadata": {},
   "outputs": [],
   "source": [
    "# First let's see what all the prints from avobe (^) mean: \n",
    "\n",
    "# - Scripts: In order to perform the optimisation, the cost-function needs to be generated. To make the package as general \n",
    "# as possible, this will be generated each time. \n",
    "# - Optimisation Starts: There is a call to the timer function to print how long the optimisation took. In this case \n",
    "# around 31 seconds.\n",
    "# - Results: The first one refers to the MLE results. Then, you will have as many more as experiments used since it is\n",
    "# necessary for the plots and also return the simulations (for this, you will have to load the specified file since it\n",
    "# is not returned). \n",
    "# - Plots: Where the plots for the fit will be saved. "
   ]
  },
  {
   "cell_type": "code",
   "execution_count": 16,
   "metadata": {},
   "outputs": [
    {
     "data": {
      "text/plain": [
       "Dict{Any,Any} with 5 entries:\n",
       "  \"StanDict\"  => Dict{String,Any}[Dict(\"h1\"=>4.75347,\"Vm1\"=>0.355359,\"Km1\"=>2.0…\n",
       "  \"Theta\"     => [0.107844 0.0268566 0.0421367; 0.355359 0.397377 0.387334; … ;…\n",
       "  \"convCurv\"  => Any[[(2, 13006.0), (4, 13006.0), (6, 13006.0), (8, 13006.0), (…\n",
       "  \"BestTheta\" => [0.0268566, 0.397377, 2.98296, 3.04115, 0.0159842, 4.94439, 0.…\n",
       "  \"BestCFV\"   => [5997.31, 5099.0, 5725.16]"
      ]
     },
     "execution_count": 16,
     "metadata": {},
     "output_type": "execute_result"
    }
   ],
   "source": [
    "# Let's have a look at the structure of the results given. \n",
    "# This is a dictionary with 5 different entries: \n",
    "mle_res"
   ]
  },
  {
   "cell_type": "code",
   "execution_count": 17,
   "metadata": {},
   "outputs": [
    {
     "data": {
      "text/plain": [
       "3-element Array{Dict{String,Any},1}:\n",
       " Dict(\"h1\" => 4.753465700049876,\"Vm1\" => 0.3553593455703238,\"Km1\" => 2.0958109110820002,\"d1\" => 0.03834485635755372,\"sc_molec\" => 5.709177462742901,\"alpha2\" => 4.701211038115877,\"alpha1\" => 0.10784403141687854,\"Kf\" => 0.021095372138290543,\"d2\" => 0.01843087231546883)\n",
       " Dict(\"h1\" => 2.982964552695594,\"Vm1\" => 0.3973773500889317,\"Km1\" => 3.041153328210882,\"d1\" => 0.01598424568537212,\"sc_molec\" => 8.416441943893254,\"alpha2\" => 4.944386115760793,\"alpha1\" => 0.02685656603847713,\"Kf\" => 0.013871336876552119,\"d2\" => 0.030111517608031366)\n",
       " Dict(\"h1\" => 4.373544569260319,\"Vm1\" => 0.38733355070232195,\"Km1\" => 2.0546126711863026,\"d1\" => 0.08514360354954886,\"sc_molec\" => 8.071372705741542,\"alpha2\" => 3.7228614523450556,\"alpha1\" => 0.04213667340388467,\"Kf\" => 0.01685072726099908,\"d2\" => 0.009798702574136472)"
      ]
     },
     "execution_count": 17,
     "metadata": {},
     "output_type": "execute_result"
    }
   ],
   "source": [
    "# - StanDict: Not used for now, but it is a re-structure of each run (result) in a format that can be used as different\n",
    "# initial guesses for a Stan inference\n",
    "mle_res[\"StanDict\"]"
   ]
  },
  {
   "cell_type": "code",
   "execution_count": 18,
   "metadata": {},
   "outputs": [
    {
     "data": {
      "text/plain": [
       "9×3 Array{Float64,2}:\n",
       " 0.107844   0.0268566  0.0421367\n",
       " 0.355359   0.397377   0.387334\n",
       " 4.75347    2.98296    4.37354\n",
       " 2.09581    3.04115    2.05461\n",
       " 0.0383449  0.0159842  0.0851436\n",
       " 4.70121    4.94439    3.72286\n",
       " 0.0184309  0.0301115  0.0097987\n",
       " 0.0210954  0.0138713  0.0168507\n",
       " 5.70918    8.41644    8.07137"
      ]
     },
     "execution_count": 18,
     "metadata": {},
     "output_type": "execute_result"
    }
   ],
   "source": [
    "# - Theta: Best result for each round (in this case 3)\n",
    "mle_res[\"Theta\"]"
   ]
  },
  {
   "cell_type": "code",
   "execution_count": 19,
   "metadata": {},
   "outputs": [
    {
     "data": {
      "text/plain": [
       "3-element Array{Any,1}:\n",
       " [(2, 13006.040404457568), (4, 13006.040404457568), (6, 13006.040404457568), (8, 13006.040404457568), (10, 13006.040404457568), (12, 13006.040404457568), (14, 13006.040404457568), (16, 13006.040404457568), (18, 13006.040404457568), (20, 13006.040404457568)  …  (1360, 5997.31117064454), (1361, 5997.31117064454), (1362, 5997.31117064454), (1363, 5997.31117064454), (1364, 5997.31117064454), (1365, 5997.31117064454), (1366, 5997.31117064454), (1367, 5997.31117064454), (1368, 5997.31117064454), (1369, 5997.31117064454)]\n",
       " [(2, 24794.788654801785), (4, 24794.788654801785), (6, 24060.62612542786), (8, 23004.304658984467), (10, 23004.304658984467), (11, 23004.304658984467), (13, 16705.0234874286), (15, 16705.0234874286), (17, 16705.0234874286), (19, 16705.0234874286)  …  (1459, 5098.996222455964), (1460, 5098.996222455964), (1461, 5098.996222455964), (1462, 5098.996222455964), (1463, 5098.996222455964), (1464, 5098.996222455964), (1465, 5098.996222455964), (1466, 5098.996222455964), (1467, 5098.996222455964), (1468, 5098.996222455964)]\n",
       " [(2, 25455.850966420345), (4, 21852.95045773546), (6, 21852.95045773546), (8, 21852.95045773546), (10, 21852.95045773546), (12, 21852.95045773546), (14, 19955.920903571197), (16, 19955.920903571197), (18, 19955.920903571197), (20, 19955.920903571197)  …  (1248, 5725.155999983655), (1249, 5725.155999983655), (1250, 5725.155999983655), (1251, 5725.155999983655), (1252, 5725.155999983655), (1253, 5725.155999983655), (1254, 5725.155999983655), (1255, 5725.155999983655), (1256, 5725.155999983655), (1257, 5725.155999983655)]"
      ]
     },
     "execution_count": 19,
     "metadata": {},
     "output_type": "execute_result"
    }
   ],
   "source": [
    "# - convCurv: List of tuples where the first entry is the function evaluation and the second the value of the cost function.\n",
    "mle_res[\"convCurv\"]"
   ]
  },
  {
   "cell_type": "code",
   "execution_count": 20,
   "metadata": {},
   "outputs": [
    {
     "data": {
      "text/plain": [
       "9-element Array{Float64,1}:\n",
       " 0.02685656603847713\n",
       " 0.3973773500889317\n",
       " 2.982964552695594\n",
       " 3.041153328210882\n",
       " 0.01598424568537212\n",
       " 4.944386115760793\n",
       " 0.030111517608031366\n",
       " 0.013871336876552119\n",
       " 8.416441943893254"
      ]
     },
     "execution_count": 20,
     "metadata": {},
     "output_type": "execute_result"
    }
   ],
   "source": [
    "# - BestTheta: Best theta from all the runs (in this case 1 from the 3 obtained in Theta) according to the best cost\n",
    "# function value at the last function evaluation. \n",
    "mle_res[\"BestTheta\"]"
   ]
  },
  {
   "cell_type": "code",
   "execution_count": 21,
   "metadata": {},
   "outputs": [
    {
     "data": {
      "text/plain": [
       "3-element Array{Float64,1}:\n",
       " 5997.31117064454\n",
       " 5098.996222455964\n",
       " 5725.155999983655"
      ]
     },
     "execution_count": 21,
     "metadata": {},
     "output_type": "execute_result"
    }
   ],
   "source": [
    "# - BestCFV: Best cost-function value for each run (in this case, 3)\n",
    "mle_res[\"BestCFV\"]"
   ]
  },
  {
   "cell_type": "code",
   "execution_count": 22,
   "metadata": {},
   "outputs": [],
   "source": [
    "# Now let's have a look at the plots generated\n",
    "using Images # Package not called in BOMBS, this is just to display the generated PNGs"
   ]
  },
  {
   "cell_type": "code",
   "execution_count": 23,
   "metadata": {},
   "outputs": [
    {
     "data": {
      "image/png": "[encoded data removed]",
      "text/plain": [
       "400×600 Array{RGB{N0f8},2} with eltype RGB{Normed{UInt8,8}}:\n",
       " RGB{N0f8}(1.0,1.0,1.0)  RGB{N0f8}(1.0,1.0,1.0)  …  RGB{N0f8}(1.0,1.0,1.0)\n",
       " RGB{N0f8}(1.0,1.0,1.0)  RGB{N0f8}(1.0,1.0,1.0)     RGB{N0f8}(1.0,1.0,1.0)\n",
       " RGB{N0f8}(1.0,1.0,1.0)  RGB{N0f8}(1.0,1.0,1.0)     RGB{N0f8}(1.0,1.0,1.0)\n",
       " RGB{N0f8}(1.0,1.0,1.0)  RGB{N0f8}(1.0,1.0,1.0)     RGB{N0f8}(1.0,1.0,1.0)\n",
       " RGB{N0f8}(1.0,1.0,1.0)  RGB{N0f8}(1.0,1.0,1.0)     RGB{N0f8}(1.0,1.0,1.0)\n",
       " RGB{N0f8}(1.0,1.0,1.0)  RGB{N0f8}(1.0,1.0,1.0)  …  RGB{N0f8}(1.0,1.0,1.0)\n",
       " RGB{N0f8}(1.0,1.0,1.0)  RGB{N0f8}(1.0,1.0,1.0)     RGB{N0f8}(1.0,1.0,1.0)\n",
       " RGB{N0f8}(1.0,1.0,1.0)  RGB{N0f8}(1.0,1.0,1.0)     RGB{N0f8}(1.0,1.0,1.0)\n",
       " RGB{N0f8}(1.0,1.0,1.0)  RGB{N0f8}(1.0,1.0,1.0)     RGB{N0f8}(1.0,1.0,1.0)\n",
       " RGB{N0f8}(1.0,1.0,1.0)  RGB{N0f8}(1.0,1.0,1.0)     RGB{N0f8}(1.0,1.0,1.0)\n",
       " RGB{N0f8}(1.0,1.0,1.0)  RGB{N0f8}(1.0,1.0,1.0)  …  RGB{N0f8}(1.0,1.0,1.0)\n",
       " RGB{N0f8}(1.0,1.0,1.0)  RGB{N0f8}(1.0,1.0,1.0)     RGB{N0f8}(1.0,1.0,1.0)\n",
       " RGB{N0f8}(1.0,1.0,1.0)  RGB{N0f8}(1.0,1.0,1.0)     RGB{N0f8}(1.0,1.0,1.0)\n",
       " ⋮                                               ⋱  \n",
       " RGB{N0f8}(1.0,1.0,1.0)  RGB{N0f8}(1.0,1.0,1.0)     RGB{N0f8}(1.0,1.0,1.0)\n",
       " RGB{N0f8}(1.0,1.0,1.0)  RGB{N0f8}(1.0,1.0,1.0)     RGB{N0f8}(1.0,1.0,1.0)\n",
       " RGB{N0f8}(1.0,1.0,1.0)  RGB{N0f8}(1.0,1.0,1.0)  …  RGB{N0f8}(1.0,1.0,1.0)\n",
       " RGB{N0f8}(1.0,1.0,1.0)  RGB{N0f8}(1.0,1.0,1.0)     RGB{N0f8}(1.0,1.0,1.0)\n",
       " RGB{N0f8}(1.0,1.0,1.0)  RGB{N0f8}(1.0,1.0,1.0)     RGB{N0f8}(1.0,1.0,1.0)\n",
       " RGB{N0f8}(1.0,1.0,1.0)  RGB{N0f8}(1.0,1.0,1.0)     RGB{N0f8}(1.0,1.0,1.0)\n",
       " RGB{N0f8}(1.0,1.0,1.0)  RGB{N0f8}(1.0,1.0,1.0)     RGB{N0f8}(1.0,1.0,1.0)\n",
       " RGB{N0f8}(1.0,1.0,1.0)  RGB{N0f8}(1.0,1.0,1.0)  …  RGB{N0f8}(1.0,1.0,1.0)\n",
       " RGB{N0f8}(1.0,1.0,1.0)  RGB{N0f8}(1.0,1.0,1.0)     RGB{N0f8}(1.0,1.0,1.0)\n",
       " RGB{N0f8}(1.0,1.0,1.0)  RGB{N0f8}(1.0,1.0,1.0)     RGB{N0f8}(1.0,1.0,1.0)\n",
       " RGB{N0f8}(1.0,1.0,1.0)  RGB{N0f8}(1.0,1.0,1.0)     RGB{N0f8}(1.0,1.0,1.0)\n",
       " RGB{N0f8}(1.0,1.0,1.0)  RGB{N0f8}(1.0,1.0,1.0)     RGB{N0f8}(1.0,1.0,1.0)"
      ]
     },
     "execution_count": 23,
     "metadata": {},
     "output_type": "execute_result"
    }
   ],
   "source": [
    "# First the convergence curves\n",
    "CC1 = load(string(mle_def[\"savepath\"], \"\\\\Plot_MLEConvergence_\",mle_def[\"flag\"],\".png\"))\n",
    "# Note that none of the curves are at convergence due to the low time allowed for the optimisation. "
   ]
  },
  {
   "cell_type": "code",
   "execution_count": 24,
   "metadata": {},
   "outputs": [
    {
     "data": {
      "image/png": "[encoded data removed]",
      "text/plain": [
       "1200×2000 Array{RGB{N0f8},2} with eltype RGB{Normed{UInt8,8}}:\n",
       " RGB{N0f8}(1.0,1.0,1.0)  RGB{N0f8}(1.0,1.0,1.0)  …  RGB{N0f8}(1.0,1.0,1.0)\n",
       " RGB{N0f8}(1.0,1.0,1.0)  RGB{N0f8}(1.0,1.0,1.0)     RGB{N0f8}(1.0,1.0,1.0)\n",
       " RGB{N0f8}(1.0,1.0,1.0)  RGB{N0f8}(1.0,1.0,1.0)     RGB{N0f8}(1.0,1.0,1.0)\n",
       " RGB{N0f8}(1.0,1.0,1.0)  RGB{N0f8}(1.0,1.0,1.0)     RGB{N0f8}(1.0,1.0,1.0)\n",
       " RGB{N0f8}(1.0,1.0,1.0)  RGB{N0f8}(1.0,1.0,1.0)     RGB{N0f8}(1.0,1.0,1.0)\n",
       " RGB{N0f8}(1.0,1.0,1.0)  RGB{N0f8}(1.0,1.0,1.0)  …  RGB{N0f8}(1.0,1.0,1.0)\n",
       " RGB{N0f8}(1.0,1.0,1.0)  RGB{N0f8}(1.0,1.0,1.0)     RGB{N0f8}(1.0,1.0,1.0)\n",
       " RGB{N0f8}(1.0,1.0,1.0)  RGB{N0f8}(1.0,1.0,1.0)     RGB{N0f8}(1.0,1.0,1.0)\n",
       " RGB{N0f8}(1.0,1.0,1.0)  RGB{N0f8}(1.0,1.0,1.0)     RGB{N0f8}(1.0,1.0,1.0)\n",
       " RGB{N0f8}(1.0,1.0,1.0)  RGB{N0f8}(1.0,1.0,1.0)     RGB{N0f8}(1.0,1.0,1.0)\n",
       " RGB{N0f8}(1.0,1.0,1.0)  RGB{N0f8}(1.0,1.0,1.0)  …  RGB{N0f8}(1.0,1.0,1.0)\n",
       " RGB{N0f8}(1.0,1.0,1.0)  RGB{N0f8}(1.0,1.0,1.0)     RGB{N0f8}(1.0,1.0,1.0)\n",
       " RGB{N0f8}(1.0,1.0,1.0)  RGB{N0f8}(1.0,1.0,1.0)     RGB{N0f8}(1.0,1.0,1.0)\n",
       " ⋮                                               ⋱  \n",
       " RGB{N0f8}(1.0,1.0,1.0)  RGB{N0f8}(1.0,1.0,1.0)     RGB{N0f8}(1.0,1.0,1.0)\n",
       " RGB{N0f8}(1.0,1.0,1.0)  RGB{N0f8}(1.0,1.0,1.0)     RGB{N0f8}(1.0,1.0,1.0)\n",
       " RGB{N0f8}(1.0,1.0,1.0)  RGB{N0f8}(1.0,1.0,1.0)  …  RGB{N0f8}(1.0,1.0,1.0)\n",
       " RGB{N0f8}(1.0,1.0,1.0)  RGB{N0f8}(1.0,1.0,1.0)     RGB{N0f8}(1.0,1.0,1.0)\n",
       " RGB{N0f8}(1.0,1.0,1.0)  RGB{N0f8}(1.0,1.0,1.0)     RGB{N0f8}(1.0,1.0,1.0)\n",
       " RGB{N0f8}(1.0,1.0,1.0)  RGB{N0f8}(1.0,1.0,1.0)     RGB{N0f8}(1.0,1.0,1.0)\n",
       " RGB{N0f8}(1.0,1.0,1.0)  RGB{N0f8}(1.0,1.0,1.0)     RGB{N0f8}(1.0,1.0,1.0)\n",
       " RGB{N0f8}(1.0,1.0,1.0)  RGB{N0f8}(1.0,1.0,1.0)  …  RGB{N0f8}(1.0,1.0,1.0)\n",
       " RGB{N0f8}(1.0,1.0,1.0)  RGB{N0f8}(1.0,1.0,1.0)     RGB{N0f8}(1.0,1.0,1.0)\n",
       " RGB{N0f8}(1.0,1.0,1.0)  RGB{N0f8}(1.0,1.0,1.0)     RGB{N0f8}(1.0,1.0,1.0)\n",
       " RGB{N0f8}(1.0,1.0,1.0)  RGB{N0f8}(1.0,1.0,1.0)     RGB{N0f8}(1.0,1.0,1.0)\n",
       " RGB{N0f8}(1.0,1.0,1.0)  RGB{N0f8}(1.0,1.0,1.0)     RGB{N0f8}(1.0,1.0,1.0)"
      ]
     },
     "execution_count": 24,
     "metadata": {},
     "output_type": "execute_result"
    }
   ],
   "source": [
    "# And now let's check the simulations of al the runs against the real data\n",
    "exp1 = load(string(mle_def[\"savepath\"], \"\\\\PlotMLEResults_Exp\",1,\"_\",mle_def[\"flag\"],\".png\"))"
   ]
  },
  {
   "cell_type": "code",
   "execution_count": 25,
   "metadata": {},
   "outputs": [
    {
     "data": {
      "image/png": "[encoded data removed]",
      "text/plain": [
       "1200×2000 Array{RGB{N0f8},2} with eltype RGB{Normed{UInt8,8}}:\n",
       " RGB{N0f8}(1.0,1.0,1.0)  RGB{N0f8}(1.0,1.0,1.0)  …  RGB{N0f8}(1.0,1.0,1.0)\n",
       " RGB{N0f8}(1.0,1.0,1.0)  RGB{N0f8}(1.0,1.0,1.0)     RGB{N0f8}(1.0,1.0,1.0)\n",
       " RGB{N0f8}(1.0,1.0,1.0)  RGB{N0f8}(1.0,1.0,1.0)     RGB{N0f8}(1.0,1.0,1.0)\n",
       " RGB{N0f8}(1.0,1.0,1.0)  RGB{N0f8}(1.0,1.0,1.0)     RGB{N0f8}(1.0,1.0,1.0)\n",
       " RGB{N0f8}(1.0,1.0,1.0)  RGB{N0f8}(1.0,1.0,1.0)     RGB{N0f8}(1.0,1.0,1.0)\n",
       " RGB{N0f8}(1.0,1.0,1.0)  RGB{N0f8}(1.0,1.0,1.0)  …  RGB{N0f8}(1.0,1.0,1.0)\n",
       " RGB{N0f8}(1.0,1.0,1.0)  RGB{N0f8}(1.0,1.0,1.0)     RGB{N0f8}(1.0,1.0,1.0)\n",
       " RGB{N0f8}(1.0,1.0,1.0)  RGB{N0f8}(1.0,1.0,1.0)     RGB{N0f8}(1.0,1.0,1.0)\n",
       " RGB{N0f8}(1.0,1.0,1.0)  RGB{N0f8}(1.0,1.0,1.0)     RGB{N0f8}(1.0,1.0,1.0)\n",
       " RGB{N0f8}(1.0,1.0,1.0)  RGB{N0f8}(1.0,1.0,1.0)     RGB{N0f8}(1.0,1.0,1.0)\n",
       " RGB{N0f8}(1.0,1.0,1.0)  RGB{N0f8}(1.0,1.0,1.0)  …  RGB{N0f8}(1.0,1.0,1.0)\n",
       " RGB{N0f8}(1.0,1.0,1.0)  RGB{N0f8}(1.0,1.0,1.0)     RGB{N0f8}(1.0,1.0,1.0)\n",
       " RGB{N0f8}(1.0,1.0,1.0)  RGB{N0f8}(1.0,1.0,1.0)     RGB{N0f8}(1.0,1.0,1.0)\n",
       " ⋮                                               ⋱  \n",
       " RGB{N0f8}(1.0,1.0,1.0)  RGB{N0f8}(1.0,1.0,1.0)     RGB{N0f8}(1.0,1.0,1.0)\n",
       " RGB{N0f8}(1.0,1.0,1.0)  RGB{N0f8}(1.0,1.0,1.0)     RGB{N0f8}(1.0,1.0,1.0)\n",
       " RGB{N0f8}(1.0,1.0,1.0)  RGB{N0f8}(1.0,1.0,1.0)  …  RGB{N0f8}(1.0,1.0,1.0)\n",
       " RGB{N0f8}(1.0,1.0,1.0)  RGB{N0f8}(1.0,1.0,1.0)     RGB{N0f8}(1.0,1.0,1.0)\n",
       " RGB{N0f8}(1.0,1.0,1.0)  RGB{N0f8}(1.0,1.0,1.0)     RGB{N0f8}(1.0,1.0,1.0)\n",
       " RGB{N0f8}(1.0,1.0,1.0)  RGB{N0f8}(1.0,1.0,1.0)     RGB{N0f8}(1.0,1.0,1.0)\n",
       " RGB{N0f8}(1.0,1.0,1.0)  RGB{N0f8}(1.0,1.0,1.0)     RGB{N0f8}(1.0,1.0,1.0)\n",
       " RGB{N0f8}(1.0,1.0,1.0)  RGB{N0f8}(1.0,1.0,1.0)  …  RGB{N0f8}(1.0,1.0,1.0)\n",
       " RGB{N0f8}(1.0,1.0,1.0)  RGB{N0f8}(1.0,1.0,1.0)     RGB{N0f8}(1.0,1.0,1.0)\n",
       " RGB{N0f8}(1.0,1.0,1.0)  RGB{N0f8}(1.0,1.0,1.0)     RGB{N0f8}(1.0,1.0,1.0)\n",
       " RGB{N0f8}(1.0,1.0,1.0)  RGB{N0f8}(1.0,1.0,1.0)     RGB{N0f8}(1.0,1.0,1.0)\n",
       " RGB{N0f8}(1.0,1.0,1.0)  RGB{N0f8}(1.0,1.0,1.0)     RGB{N0f8}(1.0,1.0,1.0)"
      ]
     },
     "execution_count": 25,
     "metadata": {},
     "output_type": "execute_result"
    }
   ],
   "source": [
    "exp2 = load(string(mle_def[\"savepath\"], \"\\\\PlotMLEResults_Exp\",2,\"_\",mle_def[\"flag\"],\".png\"))"
   ]
  },
  {
   "cell_type": "markdown",
   "metadata": {},
   "source": [
    "# MLE Example 2\n",
    "This will be exactly the same example as before, but the 3 different runs will be optimised in parallel."
   ]
  },
  {
   "cell_type": "code",
   "execution_count": 8,
   "metadata": {},
   "outputs": [],
   "source": [
    "# To do this it is as simple as typing true in the field parallel!\n",
    "mle_def[\"parallel\"] = [true]; \n",
    "mle_def[\"flag\"] = [\"Example2parallel\"];"
   ]
  },
  {
   "cell_type": "code",
   "execution_count": 21,
   "metadata": {},
   "outputs": [
    {
     "name": "stdout",
     "output_type": "stream",
     "text": [
      "\n",
      "----------------------------------------- SCRIPTS -----------------------------------------\n",
      "MLE scripts have been generated in the directory: \n",
      "         E:\\UNI\\D_Drive\\PhD\\JULIAlang\\Generalisation_PLacExample\\Examples\\Results\\PLacExample_2021-01-06\\MLEscripts\\PLacExample_MLE.jl\n",
      "--------------------------------------------------------------------------------------\n",
      "\n"
     ]
    }
   ],
   "source": [
    "# MLECostGen(model_def, mle_def)"
   ]
  },
  {
   "cell_type": "code",
   "execution_count": 9,
   "metadata": {},
   "outputs": [],
   "source": [
    "# mle_def = checkStructMLE(model_def, mle_def);"
   ]
  },
  {
   "cell_type": "code",
   "execution_count": 8,
   "metadata": {},
   "outputs": [],
   "source": [
    "using Distributed\n",
    "    \n",
    "    if length(Sys.cpu_info()) > nworkers()\n",
    "        addprocs(length(Sys.cpu_info())-nworkers());\n",
    "    end\n",
    "            \n",
    "\n",
    "    @everywhere using DifferentialEquations\n",
    "    @everywhere using OrdinaryDiffEq\n",
    "    using DiffEqBase\n",
    "    @everywhere using Sundials\n",
    "    using Plots\n",
    "    # using DiffEqGPU\n",
    "    @everywhere using ODEInterfaceDiffEq\n",
    "    using DataFrames\n",
    "    using CSV\n",
    "    @everywhere using Statistics\n",
    "    @everywhere using LinearAlgebra\n",
    "    using JLD\n",
    "    @everywhere using StatsBase\n",
    "    @everywhere using Random\n",
    "    using SharedArrays\n",
    "    @everywhere using BlackBoxOptim\n",
    "    @everywhere using BlackBoxOptim: num_func_evals\n",
    "        \n",
    "    @everywhere include(\"E:\\\\UNI\\\\D_Drive\\\\PhD\\\\JULIAlang\\\\Generalisation_PLacExample\\\\Examples\\\\ModelsFunctions\\\\PLacExample_Model.jl\")"
   ]
  },
  {
   "cell_type": "code",
   "execution_count": 9,
   "metadata": {},
   "outputs": [],
   "source": [
    "using Distributed\n",
    "# @everywhere @spawnat 2 model_def3 = model_def\n"
   ]
  },
  {
   "cell_type": "code",
   "execution_count": 10,
   "metadata": {},
   "outputs": [],
   "source": [
    "global model_def2 = model_def;\n",
    "global mle_def2 = mle_def;"
   ]
  },
  {
   "cell_type": "code",
   "execution_count": 24,
   "metadata": {},
   "outputs": [],
   "source": [
    "# workers()"
   ]
  },
  {
   "cell_type": "code",
   "execution_count": 11,
   "metadata": {},
   "outputs": [
    {
     "name": "stdout",
     "output_type": "stream",
     "text": [
      "\n",
      "----------------------------------------- SCRIPTS -----------------------------------------\n",
      "MLE scripts have been generated in the directory: \n",
      "         E:\\UNI\\D_Drive\\PhD\\JULIAlang\\Generalisation_PLacExample\\Examples\\Results\\PLacExample_2021-01-07\\MLEscripts\\PLacExample_MLE.jl\n",
      "--------------------------------------------------------------------------------------\n",
      "\n",
      "2\n",
      "3\n",
      "4\n",
      "5\n",
      "6\n",
      "7\n",
      "8\n",
      "9\n",
      "10\n",
      "11\n",
      "12\n",
      "----------------------------------------- OPTIMISATION STARTS! -----------------------------------------\n"
     ]
    },
    {
     "ename": "TaskFailedException",
     "evalue": "TaskFailedException:\nOn worker 2:\nKeyError: key BOMBS [9fa3cf97-96f5-4594-8ac7-dc80311f2c9e] not found\ngetindex at .\\dict.jl:477 [inlined]\nroot_module at .\\loading.jl:967 [inlined]\ndeserialize_module at C:\\Users\\julia\\AppData\\Local\\Julia-1.4.0\\share\\julia\\stdlib\\v1.4\\Serialization\\src\\Serialization.jl:912\nhandle_deserialize at C:\\Users\\julia\\AppData\\Local\\Julia-1.4.0\\share\\julia\\stdlib\\v1.4\\Serialization\\src\\Serialization.jl:812\ndeserialize at C:\\Users\\julia\\AppData\\Local\\Julia-1.4.0\\share\\julia\\stdlib\\v1.4\\Serialization\\src\\Serialization.jl:735\ndeserialize_datatype at C:\\Users\\julia\\AppData\\Local\\Julia-1.4.0\\share\\julia\\stdlib\\v1.4\\Serialization\\src\\Serialization.jl:1210\nhandle_deserialize at C:\\Users\\julia\\AppData\\Local\\Julia-1.4.0\\share\\julia\\stdlib\\v1.4\\Serialization\\src\\Serialization.jl:788\ndeserialize at C:\\Users\\julia\\AppData\\Local\\Julia-1.4.0\\share\\julia\\stdlib\\v1.4\\Serialization\\src\\Serialization.jl:735\nhandle_deserialize at C:\\Users\\julia\\AppData\\Local\\Julia-1.4.0\\share\\julia\\stdlib\\v1.4\\Serialization\\src\\Serialization.jl:795\ndeserialize at C:\\Users\\julia\\AppData\\Local\\Julia-1.4.0\\share\\julia\\stdlib\\v1.4\\Serialization\\src\\Serialization.jl:735 [inlined]\ndeserialize_msg at C:\\Users\\julia\\AppData\\Local\\Julia-1.4.0\\share\\julia\\stdlib\\v1.4\\Distributed\\src\\messages.jl:99\n#invokelatest#1 at .\\essentials.jl:712 [inlined]\ninvokelatest at .\\essentials.jl:711 [inlined]\nmessage_handler_loop at C:\\Users\\julia\\AppData\\Local\\Julia-1.4.0\\share\\julia\\stdlib\\v1.4\\Distributed\\src\\process_messages.jl:185\nprocess_tcp_streams at C:\\Users\\julia\\AppData\\Local\\Julia-1.4.0\\share\\julia\\stdlib\\v1.4\\Distributed\\src\\process_messages.jl:142\n#97 at .\\task.jl:358\nStacktrace:\n [1] remotecall_fetch(::Function, ::Distributed.Worker, ::Function, ::Vararg{Any,N} where N; kwargs::Base.Iterators.Pairs{Union{},Union{},Tuple{},NamedTuple{(),Tuple{}}}) at C:\\Users\\julia\\AppData\\Local\\Julia-1.4.0\\share\\julia\\stdlib\\v1.4\\Distributed\\src\\remotecall.jl:390\n [2] remotecall_fetch(::Function, ::Distributed.Worker, ::Function, ::Vararg{Any,N} where N) at C:\\Users\\julia\\AppData\\Local\\Julia-1.4.0\\share\\julia\\stdlib\\v1.4\\Distributed\\src\\remotecall.jl:382\n [3] #remotecall_fetch#144 at C:\\Users\\julia\\AppData\\Local\\Julia-1.4.0\\share\\julia\\stdlib\\v1.4\\Distributed\\src\\remotecall.jl:417 [inlined]\n [4] remotecall_fetch at C:\\Users\\julia\\AppData\\Local\\Julia-1.4.0\\share\\julia\\stdlib\\v1.4\\Distributed\\src\\remotecall.jl:417 [inlined]\n [5] (::Distributed.var\"#155#156\"{typeof(vcat),BOMBS.var\"#99#100\"{Dict{Any,Any},SharedArrays.SharedArray{Float64,2}},UnitRange{Int64},Array{UnitRange{Int64},1},Int64,Int64})() at C:\\Users\\julia\\AppData\\Local\\Julia-1.4.0\\share\\julia\\stdlib\\v1.4\\Distributed\\src\\macros.jl:270",
     "output_type": "error",
     "traceback": [
      "TaskFailedException:\nOn worker 2:\nKeyError: key BOMBS [9fa3cf97-96f5-4594-8ac7-dc80311f2c9e] not found\ngetindex at .\\dict.jl:477 [inlined]\nroot_module at .\\loading.jl:967 [inlined]\ndeserialize_module at C:\\Users\\julia\\AppData\\Local\\Julia-1.4.0\\share\\julia\\stdlib\\v1.4\\Serialization\\src\\Serialization.jl:912\nhandle_deserialize at C:\\Users\\julia\\AppData\\Local\\Julia-1.4.0\\share\\julia\\stdlib\\v1.4\\Serialization\\src\\Serialization.jl:812\ndeserialize at C:\\Users\\julia\\AppData\\Local\\Julia-1.4.0\\share\\julia\\stdlib\\v1.4\\Serialization\\src\\Serialization.jl:735\ndeserialize_datatype at C:\\Users\\julia\\AppData\\Local\\Julia-1.4.0\\share\\julia\\stdlib\\v1.4\\Serialization\\src\\Serialization.jl:1210\nhandle_deserialize at C:\\Users\\julia\\AppData\\Local\\Julia-1.4.0\\share\\julia\\stdlib\\v1.4\\Serialization\\src\\Serialization.jl:788\ndeserialize at C:\\Users\\julia\\AppData\\Local\\Julia-1.4.0\\share\\julia\\stdlib\\v1.4\\Serialization\\src\\Serialization.jl:735\nhandle_deserialize at C:\\Users\\julia\\AppData\\Local\\Julia-1.4.0\\share\\julia\\stdlib\\v1.4\\Serialization\\src\\Serialization.jl:795\ndeserialize at C:\\Users\\julia\\AppData\\Local\\Julia-1.4.0\\share\\julia\\stdlib\\v1.4\\Serialization\\src\\Serialization.jl:735 [inlined]\ndeserialize_msg at C:\\Users\\julia\\AppData\\Local\\Julia-1.4.0\\share\\julia\\stdlib\\v1.4\\Distributed\\src\\messages.jl:99\n#invokelatest#1 at .\\essentials.jl:712 [inlined]\ninvokelatest at .\\essentials.jl:711 [inlined]\nmessage_handler_loop at C:\\Users\\julia\\AppData\\Local\\Julia-1.4.0\\share\\julia\\stdlib\\v1.4\\Distributed\\src\\process_messages.jl:185\nprocess_tcp_streams at C:\\Users\\julia\\AppData\\Local\\Julia-1.4.0\\share\\julia\\stdlib\\v1.4\\Distributed\\src\\process_messages.jl:142\n#97 at .\\task.jl:358\nStacktrace:\n [1] remotecall_fetch(::Function, ::Distributed.Worker, ::Function, ::Vararg{Any,N} where N; kwargs::Base.Iterators.Pairs{Union{},Union{},Tuple{},NamedTuple{(),Tuple{}}}) at C:\\Users\\julia\\AppData\\Local\\Julia-1.4.0\\share\\julia\\stdlib\\v1.4\\Distributed\\src\\remotecall.jl:390\n [2] remotecall_fetch(::Function, ::Distributed.Worker, ::Function, ::Vararg{Any,N} where N) at C:\\Users\\julia\\AppData\\Local\\Julia-1.4.0\\share\\julia\\stdlib\\v1.4\\Distributed\\src\\remotecall.jl:382\n [3] #remotecall_fetch#144 at C:\\Users\\julia\\AppData\\Local\\Julia-1.4.0\\share\\julia\\stdlib\\v1.4\\Distributed\\src\\remotecall.jl:417 [inlined]\n [4] remotecall_fetch at C:\\Users\\julia\\AppData\\Local\\Julia-1.4.0\\share\\julia\\stdlib\\v1.4\\Distributed\\src\\remotecall.jl:417 [inlined]\n [5] (::Distributed.var\"#155#156\"{typeof(vcat),BOMBS.var\"#99#100\"{Dict{Any,Any},SharedArrays.SharedArray{Float64,2}},UnitRange{Int64},Array{UnitRange{Int64},1},Int64,Int64})() at C:\\Users\\julia\\AppData\\Local\\Julia-1.4.0\\share\\julia\\stdlib\\v1.4\\Distributed\\src\\macros.jl:270",
      "",
      "Stacktrace:",
      " [1] wait at .\\task.jl:267 [inlined]",
      " [2] fetch at .\\task.jl:282 [inlined]",
      " [3] iterate at .\\generator.jl:47 [inlined]",
      " [4] collect(::Base.Generator{Array{Task,1},typeof(fetch)}) at .\\array.jl:665",
      " [5] preduce(::Function, ::Function, ::UnitRange{Int64}) at C:\\Users\\julia\\AppData\\Local\\Julia-1.4.0\\share\\julia\\stdlib\\v1.4\\Distributed\\src\\macros.jl:274",
      " [6] macro expansion at .\\task.jl:334 [inlined]",
      " [7] parOptim at E:\\UNI\\D_Drive\\PhD\\JULIAlang\\Generalisation_PLacExample\\Examples\\Results\\PLacExample_2021-01-07\\MLEscripts\\PLacExample_MLE.jl:59 [inlined]",
      " [8] macro expansion at E:\\UNI\\D_Drive\\PhD\\JULIAlang\\Generalisation_PLacExample\\Examples\\Results\\PLacExample_2021-01-07\\MLEscripts\\PLacExample_MLE.jl:437 [inlined]",
      " [9] macro expansion at .\\util.jl:175 [inlined]",
      " [10] RunMLEPLacExample(::Dict{Any,Any}, ::Dict{Any,Any}) at E:\\UNI\\D_Drive\\PhD\\JULIAlang\\Generalisation_PLacExample\\Examples\\Results\\PLacExample_2021-01-07\\MLEscripts\\PLacExample_MLE.jl:436",
      " [11] top-level scope at C:\\Users\\david\\.juliapro\\JuliaPro_v1.4.0-1\\packages\\IJulia\\DrVMH\\src\\kernel.jl:52",
      " [12] eval at .\\boot.jl:331 [inlined]",
      " [13] MLEtheta(::Dict{Any,Any}, ::Dict{Any,Any}) at C:\\Users\\david\\AppData\\Local\\JuliaPro-1.4.0-1\\Julia-1.4.0\\share\\julia\\stdlib\\v1.4\\BOMBS.jl\\src\\ModelMLE.jl:1775",
      " [14] top-level scope at In[11]:1"
     ]
    }
   ],
   "source": [
    "# Be carefull since the start up time (and memory) for this is really high. It is only worth using it if you are going \n",
    "# to do a lot of runs with a lot of function evaluations in them (and you have a good machine). \n",
    "mle_res2, model_def2, mle_def2 = MLEtheta(model_def2, mle_def2);"
   ]
  },
  {
   "cell_type": "code",
   "execution_count": 12,
   "metadata": {},
   "outputs": [
    {
     "data": {
      "text/plain": [
       "RunMLEPLacExample (generic function with 1 method)"
      ]
     },
     "execution_count": 12,
     "metadata": {},
     "output_type": "execute_result"
    }
   ],
   "source": [
    "include(\"E:\\\\UNI\\\\D_Drive\\\\PhD\\\\JULIAlang\\\\Generalisation_PLacExample\\\\Examples\\\\Results\\\\PLacExample_2021-01-06\\\\MLEscripts\\\\PLacExample_MLE.jl\")\n"
   ]
  },
  {
   "cell_type": "code",
   "execution_count": 13,
   "metadata": {},
   "outputs": [
    {
     "name": "stdout",
     "output_type": "stream",
     "text": [
      "----------------------------------------- OPTIMISATION STARTS! -----------------------------------------\n",
      " 19.839194 seconds (9.84 M allocations: 543.714 MiB, 0.66% gc time)\n",
      "----------------------------------------- OPTIMISATION ENDED -----------------------------------------\n"
     ]
    },
    {
     "data": {
      "text/plain": [
       "Dict{Any,Any} with 5 entries:\n",
       "  \"StanDict\"  => Dict{String,Any}[Dict(\"h1\"=>3.72315,\"Vm1\"=>0.372083,\"Km1\"=>8.4…\n",
       "  \"Theta\"     => [0.226684 0.0610313 0.163021; 0.372083 0.427684 0.486925; … ; …\n",
       "  \"convCurv\"  => Any[Tuple{Int64,Real}[(2, 19387.3)], Tuple{Int64,Real}[(2, 255…\n",
       "  \"BestTheta\" => [0.226684, 0.372083, 3.72315, 8.45637, 0.13103, 5.49355, 0.034…\n",
       "  \"BestCFV\"   => [19387.3, 25504.5, 24516.5]"
      ]
     },
     "execution_count": 13,
     "metadata": {},
     "output_type": "execute_result"
    }
   ],
   "source": [
    "# global model_def2 = model_def;\n",
    "# global mle_def2 = mle_def;\n",
    "RunMLEPLacExample(model_def, mle_def)"
   ]
  },
  {
   "cell_type": "code",
   "execution_count": 30,
   "metadata": {},
   "outputs": [
    {
     "ename": "UndefVarError",
     "evalue": "UndefVarError: model_def2 not defined",
     "output_type": "error",
     "traceback": [
      "UndefVarError: model_def2 not defined",
      "",
      "Stacktrace:",
      " [1] top-level scope at In[30]:1"
     ]
    }
   ],
   "source": [
    "isdefined(model_def2,1)"
   ]
  },
  {
   "cell_type": "code",
   "execution_count": 17,
   "metadata": {},
   "outputs": [
    {
     "ename": "MethodError",
     "evalue": "MethodError: no method matching SharedArray{Any,1}(::UndefInitializer, ::Int64)\nClosest candidates are:\n  SharedArray{Any,1}(::Any, ::Any, !Matched::Any, !Matched::Any, !Matched::Any) where {T, N} at C:\\Users\\julia\\AppData\\Local\\Julia-1.4.0\\share\\julia\\stdlib\\v1.4\\SharedArrays\\src\\SharedArrays.jl:44\n  SharedArray{Any,1}(!Matched::Integer...; kwargs...) where {T, N} at C:\\Users\\julia\\AppData\\Local\\Julia-1.4.0\\share\\julia\\stdlib\\v1.4\\SharedArrays\\src\\SharedArrays.jl:161",
     "output_type": "error",
     "traceback": [
      "MethodError: no method matching SharedArray{Any,1}(::UndefInitializer, ::Int64)\nClosest candidates are:\n  SharedArray{Any,1}(::Any, ::Any, !Matched::Any, !Matched::Any, !Matched::Any) where {T, N} at C:\\Users\\julia\\AppData\\Local\\Julia-1.4.0\\share\\julia\\stdlib\\v1.4\\SharedArrays\\src\\SharedArrays.jl:44\n  SharedArray{Any,1}(!Matched::Integer...; kwargs...) where {T, N} at C:\\Users\\julia\\AppData\\Local\\Julia-1.4.0\\share\\julia\\stdlib\\v1.4\\SharedArrays\\src\\SharedArrays.jl:161",
      "",
      "Stacktrace:",
      " [1] top-level scope at In[17]:1"
     ]
    }
   ],
   "source": [
    "SharedArray{Any,1}(undef,mle_def2[\"Nexp\"])"
   ]
  },
  {
   "cell_type": "code",
   "execution_count": 16,
   "metadata": {},
   "outputs": [
    {
     "name": "stdout",
     "output_type": "stream",
     "text": [
      "11\n"
     ]
    }
   ],
   "source": [
    "if length(Sys.cpu_info()) >= nworkers()\n",
    "    addprocs(length(Sys.cpu_info())-nworkers());\n",
    "end"
   ]
  },
  {
   "cell_type": "code",
   "execution_count": 23,
   "metadata": {},
   "outputs": [],
   "source": [
    "@everywhere m = [1 2 3;1 1 1]"
   ]
  },
  {
   "cell_type": "code",
   "execution_count": 16,
   "metadata": {},
   "outputs": [
    {
     "ename": "MethodError",
     "evalue": "MethodError: no method matching SharedArray(::Tuple{Int64,Int64})\nClosest candidates are:\n  SharedArray(!Matched::Array) at C:\\Users\\julia\\AppData\\Local\\Julia-1.4.0\\share\\julia\\stdlib\\v1.4\\SharedArrays\\src\\SharedArrays.jl:357",
     "output_type": "error",
     "traceback": [
      "MethodError: no method matching SharedArray(::Tuple{Int64,Int64})\nClosest candidates are:\n  SharedArray(!Matched::Array) at C:\\Users\\julia\\AppData\\Local\\Julia-1.4.0\\share\\julia\\stdlib\\v1.4\\SharedArrays\\src\\SharedArrays.jl:357",
      "",
      "Stacktrace:",
      " [1] top-level scope at In[16]:2"
     ]
    }
   ],
   "source": [
    "using SharedArrays\n",
    "SharedArray(size(m))"
   ]
  },
  {
   "cell_type": "code",
   "execution_count": 50,
   "metadata": {},
   "outputs": [
    {
     "data": {
      "text/plain": [
       "SharedArray{Float64,3}"
      ]
     },
     "execution_count": 50,
     "metadata": {},
     "output_type": "execute_result"
    }
   ],
   "source": [
    "global m2 = SharedArray{Float64,3}"
   ]
  },
  {
   "cell_type": "code",
   "execution_count": 51,
   "metadata": {},
   "outputs": [
    {
     "ename": "MethodError",
     "evalue": "MethodError: no method matching setindex!(::Type{SharedArray{Float64,3}}, ::Int64, ::Int64)",
     "output_type": "error",
     "traceback": [
      "MethodError: no method matching setindex!(::Type{SharedArray{Float64,3}}, ::Int64, ::Int64)",
      "",
      "Stacktrace:",
      " [1] top-level scope at In[51]:1"
     ]
    }
   ],
   "source": [
    "m2[1]=1"
   ]
  },
  {
   "cell_type": "code",
   "execution_count": 9,
   "metadata": {},
   "outputs": [
    {
     "data": {
      "text/plain": [
       "1"
      ]
     },
     "execution_count": 9,
     "metadata": {},
     "output_type": "execute_result"
    }
   ],
   "source": [
    "using Distributed\n",
    "nworkers()"
   ]
  },
  {
   "cell_type": "code",
   "execution_count": 44,
   "metadata": {},
   "outputs": [],
   "source": [
    "if length(Sys.cpu_info()) > nworkers()\n",
    "        addprocs(length(Sys.cpu_info())-nworkers());\n",
    "    end"
   ]
  },
  {
   "cell_type": "code",
   "execution_count": 12,
   "metadata": {},
   "outputs": [
    {
     "data": {
      "text/plain": [
       "Dict{Any,Any} with 19 entries:\n",
       "  \"thetaMIN\"     => [3.88e-5, 0.0388, 0.5, 2.0, 0.0077, 0.2433, 5.98e-5, 0.012,…\n",
       "  \"parallel\"     => true\n",
       "  \"DataError\"    => Any[Any[[246.903, 250.88, 273.529, 322.371, 397.646, 495.85…\n",
       "  \"OPTsolver\"    => \"adaptive_de_rand_1_bin_radiuslimited\"\n",
       "  \"Nexp\"         => 2\n",
       "  \"MaxTime\"      => 10\n",
       "  \"y0\"           => [[10, 10, 10, 10], [10, 10, 10, 10]]\n",
       "  \"uInd\"         => [[5.0, 100.0, 1.0], [7.5]]\n",
       "  \"thetaMAX\"     => [0.495, 0.495, 4.9, 10.0, 0.23, 6.8067, 0.2449, 0.0217, 10.…\n",
       "  \"Obs\"          => [\"3*Cit_AU\"]\n",
       "  \"switchT\"      => [[0, 500, 1000, 1439], [0, 1439]]\n",
       "  \"preInd\"       => [[0], [0]]\n",
       "  \"finalTime\"    => [1439, 1439]\n",
       "  \"MaxFuncEvals\" => Any[]\n",
       "  \"tsamps\"       => [[0, 5, 10, 15, 20, 25, 30, 35, 40, 45  …  1390, 1395, 1400…\n",
       "  \"flag\"         => \"Example2parallel\"\n",
       "  \"plot\"         => true\n",
       "  \"DataMean\"     => Any[[2945.28; 2245.26; … ; 6486.45; 6129.91], [2382.2; 2601…\n",
       "  \"runs\"         => 3"
      ]
     },
     "execution_count": 12,
     "metadata": {},
     "output_type": "execute_result"
    }
   ],
   "source": [
    "mle_def"
   ]
  },
  {
   "cell_type": "code",
   "execution_count": null,
   "metadata": {},
   "outputs": [],
   "source": []
  },
  {
   "cell_type": "code",
   "execution_count": 15,
   "metadata": {},
   "outputs": [],
   "source": [
    "using Dates"
   ]
  },
  {
   "cell_type": "code",
   "execution_count": 16,
   "metadata": {},
   "outputs": [],
   "source": [
    "cudi = pwd(); #@__DIR__;\n",
    "    if !isdir(string(cudi,\"\\\\Results\"))\n",
    "        mkdir(string(cudi,\"\\\\Results\"))\n",
    "    end\n",
    "    if !isdir(string(cudi, \"\\\\Results\\\\\", model_def[\"NameF\"],\"_\",today()))\n",
    "        mkdir(string(cudi, \"\\\\Results\\\\\", model_def[\"NameF\"],\"_\",today()))\n",
    "    end\n",
    "    if !isdir(string(cudi, \"\\\\Results\\\\\", model_def[\"NameF\"],\"_\",today(), \"\\\\MLEscripts\"))\n",
    "        mkdir(string(cudi, \"\\\\Results\\\\\", model_def[\"NameF\"],\"_\",today(), \"\\\\MLEscripts\"))\n",
    "    end\n",
    "\n",
    "\n",
    "    # Run Main script and save results\n",
    "    include(string(cudi, \"\\\\Results\\\\\", model_def[\"NameF\"],\"_\",today(), \"\\\\MLEscripts\\\\\", model_def[\"NameF\"], \"_MLE.jl\"))\n",
    "\n",
    "    if mle_def[\"parallel\"][1] == true\n",
    "        for k in 1:length(Sys.cpu_info())\n",
    "            spaw1a = string(\"        @spawnat \",k,\" mle_def \\n\");\n",
    "            spaw2a = string(\"        @spawnat \",k,\" model_def \\n\");\n",
    "            p1 = Meta.parse(spaw1a)\n",
    "            p2 = Meta.parse(spaw2a)\n",
    "\n",
    "            @eval $p1\n",
    "            @eval $p2\n",
    "        end\n",
    "    end"
   ]
  },
  {
   "cell_type": "code",
   "execution_count": 23,
   "metadata": {},
   "outputs": [
    {
     "ename": "UndefVarError",
     "evalue": "UndefVarError: RunMLEPLacExample not defined",
     "output_type": "error",
     "traceback": [
      "UndefVarError: RunMLEPLacExample not defined",
      "",
      "Stacktrace:",
      " [1] top-level scope at C:\\Users\\david\\.juliapro\\JuliaPro_v1.4.0-1\\packages\\IJulia\\DrVMH\\src\\kernel.jl:52",
      " [2] eval(::Module, ::Any) at .\\boot.jl:331",
      " [3] top-level scope at In[23]:2"
     ]
    }
   ],
   "source": [
    "MLEfun = Symbol(string(\"RunMLE\", model_def[\"NameF\"]))\n",
    "\n",
    "@eval $MLEfun(model_def, mle_def)"
   ]
  },
  {
   "cell_type": "code",
   "execution_count": 25,
   "metadata": {},
   "outputs": [
    {
     "data": {
      "text/plain": [
       "true"
      ]
     },
     "execution_count": 25,
     "metadata": {},
     "output_type": "execute_result"
    }
   ],
   "source": [
    "Meta.parse(string(\"RunMLE\", model_def[\"NameF\"])) == Symbol(string(\"RunMLE\", model_def[\"NameF\"]))"
   ]
  },
  {
   "cell_type": "code",
   "execution_count": 17,
   "metadata": {},
   "outputs": [
    {
     "name": "stdout",
     "output_type": "stream",
     "text": [
      "11\n",
      "----------------------------------------- OPTIMISATION STARTS! -----------------------------------------\n",
      " 18.175913 seconds (9.82 M allocations: 542.016 MiB, 0.67% gc time)\n",
      "----------------------------------------- OPTIMISATION ENDED -----------------------------------------\n"
     ]
    }
   ],
   "source": [
    "MLEfun = Symbol(string(\"RunMLE\", model_def[\"NameF\"]));\n",
    "\n",
    "    mle_res = @eval $MLEfun(model_def, mle_def);"
   ]
  },
  {
   "cell_type": "code",
   "execution_count": 20,
   "metadata": {},
   "outputs": [
    {
     "data": {
      "text/plain": [
       "true"
      ]
     },
     "execution_count": 20,
     "metadata": {},
     "output_type": "execute_result"
    }
   ],
   "source": [
    "mle_def[\"parallel\"] == true"
   ]
  },
  {
   "cell_type": "code",
   "execution_count": 60,
   "metadata": {},
   "outputs": [
    {
     "data": {
      "text/plain": [
       "12-element Array{Base.Sys.CPUinfo,1}:\n",
       " Intel(R) Core(TM) i7-9750H CPU @ 2.60GHz: \n",
       "        speed         user         nice          sys         idle          irq\n",
       "     2592 MHz   84994750            0     22635484    175617296      6257078  ticks\n",
       " Intel(R) Core(TM) i7-9750H CPU @ 2.60GHz: \n",
       "        speed         user         nice          sys         idle          irq\n",
       "     2592 MHz   17979984            0     13101828    252165390      1671468  ticks\n",
       " Intel(R) Core(TM) i7-9750H CPU @ 2.60GHz: \n",
       "        speed         user         nice          sys         idle          irq\n",
       "     2592 MHz   62370765            0     12114828    208761593       343843  ticks\n",
       " Intel(R) Core(TM) i7-9750H CPU @ 2.60GHz: \n",
       "        speed         user         nice          sys         idle          irq\n",
       "     2592 MHz   36174109            0      7138484    239934609       150484  ticks\n",
       " Intel(R) Core(TM) i7-9750H CPU @ 2.60GHz: \n",
       "        speed         user         nice          sys         idle          irq\n",
       "     2592 MHz   43249984            0     10104609    229892625       277859  ticks\n",
       " Intel(R) Core(TM) i7-9750H CPU @ 2.60GHz: \n",
       "        speed         user         nice          sys         idle          irq\n",
       "     2592 MHz   31359875            0      6688265    245199062       159593  ticks\n",
       " Intel(R) Core(TM) i7-9750H CPU @ 2.60GHz: \n",
       "        speed         user         nice          sys         idle          irq\n",
       "     2592 MHz   35433906            0      9216281    238597000       230468  ticks\n",
       " Intel(R) Core(TM) i7-9750H CPU @ 2.60GHz: \n",
       "        speed         user         nice          sys         idle          irq\n",
       "     2592 MHz   25092296            0      5924234    252230656       215671  ticks\n",
       " Intel(R) Core(TM) i7-9750H CPU @ 2.60GHz: \n",
       "        speed         user         nice          sys         idle          irq\n",
       "     2592 MHz   29635218            0      8301250    245310687       215250  ticks\n",
       " Intel(R) Core(TM) i7-9750H CPU @ 2.60GHz: \n",
       "        speed         user         nice          sys         idle          irq\n",
       "     2592 MHz   27356937            0      7363546    248526703       218921  ticks\n",
       " Intel(R) Core(TM) i7-9750H CPU @ 2.60GHz: \n",
       "        speed         user         nice          sys         idle          irq\n",
       "     2592 MHz   26242000            0      7868765    249136437       211515  ticks\n",
       " Intel(R) Core(TM) i7-9750H CPU @ 2.60GHz: \n",
       "        speed         user         nice          sys         idle          irq\n",
       "     2592 MHz   74545156            0      9725734    198976296       141015  ticks"
      ]
     },
     "execution_count": 60,
     "metadata": {},
     "output_type": "execute_result"
    }
   ],
   "source": [
    "Sys.cpu_info()"
   ]
  },
  {
   "cell_type": "code",
   "execution_count": null,
   "metadata": {},
   "outputs": [],
   "source": []
  },
  {
   "cell_type": "code",
   "execution_count": 12,
   "metadata": {},
   "outputs": [
    {
     "data": {
      "text/plain": [
       "test1 (generic function with 1 method)"
      ]
     },
     "execution_count": 12,
     "metadata": {},
     "output_type": "execute_result"
    }
   ],
   "source": [
    "function test1()\n",
    "end"
   ]
  },
  {
   "cell_type": "code",
   "execution_count": 14,
   "metadata": {},
   "outputs": [
    {
     "data": {
      "text/plain": [
       "Future(2, 1, 1532, nothing)"
      ]
     },
     "execution_count": 14,
     "metadata": {},
     "output_type": "execute_result"
    }
   ],
   "source": [
    "@spawnat 2 test1()"
   ]
  },
  {
   "cell_type": "code",
   "execution_count": null,
   "metadata": {},
   "outputs": [],
   "source": []
  },
  {
   "cell_type": "code",
   "execution_count": null,
   "metadata": {},
   "outputs": [],
   "source": []
  },
  {
   "cell_type": "code",
   "execution_count": 13,
   "metadata": {},
   "outputs": [],
   "source": [
    "using Dates"
   ]
  },
  {
   "cell_type": "code",
   "execution_count": 23,
   "metadata": {
    "scrolled": true
   },
   "outputs": [
    {
     "data": {
      "text/plain": [
       "RunMLEPLacExample (generic function with 1 method)"
      ]
     },
     "execution_count": 23,
     "metadata": {},
     "output_type": "execute_result"
    }
   ],
   "source": [
    "include(\"E:\\\\UNI\\\\D_Drive\\\\PhD\\\\JULIAlang\\\\Generalisation_PLacExample\\\\Examples\\\\Results\\\\PLacExample_2021-01-06\\\\MLEscripts\\\\PLacExample_MLE.jl\")"
   ]
  },
  {
   "cell_type": "code",
   "execution_count": 16,
   "metadata": {},
   "outputs": [],
   "source": [
    "if mle_def[\"parallel\"] == true\n",
    "        for k in 1:length(Sys.cpu_info())\n",
    "            spaw1a = string(\"        @spawnat \",k,\" mle_def \\n\");\n",
    "            spaw2a = string(\"        @spawnat \",k,\" model_def \\n\");\n",
    "            p1 = Meta.parse(spaw1a)\n",
    "            p2 = Meta.parse(spaw2a)\n",
    "\n",
    "            @eval $p1\n",
    "            @eval $p2\n",
    "        end\n",
    "    end\n",
    "#     global model_def2 = model_def;\n",
    "#     global mle_def2 = mle_def;"
   ]
  },
  {
   "cell_type": "code",
   "execution_count": 25,
   "metadata": {},
   "outputs": [
    {
     "data": {
      "text/plain": [
       "Future(12, 1, 834, nothing)"
      ]
     },
     "execution_count": 25,
     "metadata": {},
     "output_type": "execute_result"
    }
   ],
   "source": [
    "@spawnat 1 mle_def\n",
    "        @spawnat 2 mle_def\n",
    "        @spawnat 3 mle_def\n",
    "        @spawnat 4 mle_def\n",
    "        @spawnat 5 mle_def\n",
    "        @spawnat 6 mle_def\n",
    "        @spawnat 7 mle_def\n",
    "        @spawnat 8 mle_def\n",
    "        @spawnat 9 mle_def\n",
    "        @spawnat 10 mle_def\n",
    "        @spawnat 11 mle_def\n",
    "        @spawnat 12 mle_def"
   ]
  },
  {
   "cell_type": "code",
   "execution_count": 26,
   "metadata": {},
   "outputs": [
    {
     "data": {
      "text/plain": [
       "Dict{Any,Any} with 19 entries:\n",
       "  \"thetaMIN\"     => [3.88e-5, 0.0388, 0.5, 2.0, 0.0077, 0.2433, 5.98e-5, 0.012,…\n",
       "  \"parallel\"     => Bool[1]\n",
       "  \"DataError\"    => [\"PseudoDataFiles\\\\TestPLac_EXP1_Example1b_Observables.csv\"…\n",
       "  \"OPTsolver\"    => Any[]\n",
       "  \"Nexp\"         => [2]\n",
       "  \"MaxTime\"      => [10]\n",
       "  \"y0\"           => [[10, 10, 10, 10], [10, 10, 10, 10]]\n",
       "  \"uInd\"         => [[5.0, 100.0, 1.0], [7.5]]\n",
       "  \"thetaMAX\"     => [0.495, 0.495, 4.9, 10.0, 0.23, 6.8067, 0.2449, 0.0217, 10.…\n",
       "  \"Obs\"          => [\"3*Cit_AU\"]\n",
       "  \"switchT\"      => [[0, 500, 1000, 1439], [0, 1439]]\n",
       "  \"preInd\"       => [[0], [0]]\n",
       "  \"finalTime\"    => [1439, 1439]\n",
       "  \"MaxFuncEvals\" => Any[]\n",
       "  \"tsamps\"       => [[0, 5, 10, 15, 20, 25, 30, 35, 40, 45  …  1390, 1395, 1400…\n",
       "  \"flag\"         => [\"Example1parallel\"]\n",
       "  \"plot\"         => Bool[1]\n",
       "  \"DataMean\"     => [\"PseudoDataFiles\\\\TestPLac_EXP1_Example1b_Observables.csv\"…\n",
       "  \"runs\"         => [3]"
      ]
     },
     "execution_count": 26,
     "metadata": {},
     "output_type": "execute_result"
    }
   ],
   "source": [
    "mle_def"
   ]
  },
  {
   "cell_type": "code",
   "execution_count": 17,
   "metadata": {},
   "outputs": [
    {
     "ename": "CompositeException",
     "evalue": "On worker 2:\nUndefVarError: mle_def not defined\ntop-level scope at none:0\neval at .\\boot.jl:331\n#101 at C:\\Users\\julia\\AppData\\Local\\Julia-1.4.0\\share\\julia\\stdlib\\v1.4\\Distributed\\src\\process_messages.jl:290\nrun_work_thunk at C:\\Users\\julia\\AppData\\Local\\Julia-1.4.0\\share\\julia\\stdlib\\v1.4\\Distributed\\src\\process_messages.jl:79\nrun_work_thunk at C:\\Users\\julia\\AppData\\Local\\Julia-1.4.0\\share\\julia\\stdlib\\v1.4\\Distributed\\src\\process_messages.jl:88\n#94 at .\\task.jl:358\n\n...and 10 more exception(s).\n",
     "output_type": "error",
     "traceback": [
      "On worker 2:\nUndefVarError: mle_def not defined\ntop-level scope at none:0\neval at .\\boot.jl:331\n#101 at C:\\Users\\julia\\AppData\\Local\\Julia-1.4.0\\share\\julia\\stdlib\\v1.4\\Distributed\\src\\process_messages.jl:290\nrun_work_thunk at C:\\Users\\julia\\AppData\\Local\\Julia-1.4.0\\share\\julia\\stdlib\\v1.4\\Distributed\\src\\process_messages.jl:79\nrun_work_thunk at C:\\Users\\julia\\AppData\\Local\\Julia-1.4.0\\share\\julia\\stdlib\\v1.4\\Distributed\\src\\process_messages.jl:88\n#94 at .\\task.jl:358\n\n...and 10 more exception(s).\n",
      "",
      "Stacktrace:",
      " [1] sync_end(::Array{Any,1}) at .\\task.jl:316",
      " [2] macro expansion at .\\task.jl:335 [inlined]",
      " [3] remotecall_eval(::Module, ::Array{Int64,1}, ::Expr) at C:\\Users\\julia\\AppData\\Local\\Julia-1.4.0\\share\\julia\\stdlib\\v1.4\\Distributed\\src\\macros.jl:217",
      " [4] macro expansion at C:\\Users\\julia\\AppData\\Local\\Julia-1.4.0\\share\\julia\\stdlib\\v1.4\\Distributed\\src\\macros.jl:201 [inlined]",
      " [5] RunMLEPLacExample(::Dict{Any,Any}, ::Dict{Any,Any}) at E:\\UNI\\D_Drive\\PhD\\JULIAlang\\Generalisation_PLacExample\\Examples\\Results\\PLacExample_2021-01-06\\MLEscripts\\PLacExample_MLE.jl:166",
      " [6] top-level scope at C:\\Users\\david\\.juliapro\\JuliaPro_v1.4.0-1\\packages\\IJulia\\DrVMH\\src\\kernel.jl:52",
      " [7] eval(::Module, ::Any) at .\\boot.jl:331",
      " [8] top-level scope at In[17]:2"
     ]
    }
   ],
   "source": [
    "MLEfun = Symbol(string(\"RunMLE\", model_def[\"NameF\"]));\n",
    "\n",
    "    mle_res = @eval $MLEfun(model_def, mle_def);"
   ]
  },
  {
   "cell_type": "code",
   "execution_count": 28,
   "metadata": {},
   "outputs": [
    {
     "data": {
      "text/plain": [
       ":RunMLEPLacExample"
      ]
     },
     "execution_count": 28,
     "metadata": {},
     "output_type": "execute_result"
    }
   ],
   "source": [
    "MLEfun"
   ]
  },
  {
   "cell_type": "code",
   "execution_count": 31,
   "metadata": {},
   "outputs": [
    {
     "ename": "CompositeException",
     "evalue": "On worker 2:\nMethodError: no method matching Array{Any,1}(::UndefInitializer, ::Array{Int64,1})\nClosest candidates are:\n  Array{Any,1}(::UndefInitializer, !Matched::Int64) where T at boot.jl:405\n  Array{Any,1}(::UndefInitializer, !Matched::Int64...) where {T, N} at boot.jl:411\n  Array{Any,1}(::UndefInitializer, !Matched::Tuple{Int64}) where T at boot.jl:414\n  ...\ntop-level scope at none:0\neval at .\\boot.jl:331\n#101 at C:\\Users\\julia\\AppData\\Local\\Julia-1.4.0\\share\\julia\\stdlib\\v1.4\\Distributed\\src\\process_messages.jl:290\nrun_work_thunk at C:\\Users\\julia\\AppData\\Local\\Julia-1.4.0\\share\\julia\\stdlib\\v1.4\\Distributed\\src\\process_messages.jl:79\nrun_work_thunk at C:\\Users\\julia\\AppData\\Local\\Julia-1.4.0\\share\\julia\\stdlib\\v1.4\\Distributed\\src\\process_messages.jl:88\n#94 at .\\task.jl:358\n\n...and 11 more exception(s).\n",
     "output_type": "error",
     "traceback": [
      "On worker 2:\nMethodError: no method matching Array{Any,1}(::UndefInitializer, ::Array{Int64,1})\nClosest candidates are:\n  Array{Any,1}(::UndefInitializer, !Matched::Int64) where T at boot.jl:405\n  Array{Any,1}(::UndefInitializer, !Matched::Int64...) where {T, N} at boot.jl:411\n  Array{Any,1}(::UndefInitializer, !Matched::Tuple{Int64}) where T at boot.jl:414\n  ...\ntop-level scope at none:0\neval at .\\boot.jl:331\n#101 at C:\\Users\\julia\\AppData\\Local\\Julia-1.4.0\\share\\julia\\stdlib\\v1.4\\Distributed\\src\\process_messages.jl:290\nrun_work_thunk at C:\\Users\\julia\\AppData\\Local\\Julia-1.4.0\\share\\julia\\stdlib\\v1.4\\Distributed\\src\\process_messages.jl:79\nrun_work_thunk at C:\\Users\\julia\\AppData\\Local\\Julia-1.4.0\\share\\julia\\stdlib\\v1.4\\Distributed\\src\\process_messages.jl:88\n#94 at .\\task.jl:358\n\n...and 11 more exception(s).\n",
      "",
      "Stacktrace:",
      " [1] sync_end(::Array{Any,1}) at .\\task.jl:316",
      " [2] macro expansion at .\\task.jl:335 [inlined]",
      " [3] remotecall_eval(::Module, ::Array{Int64,1}, ::Expr) at C:\\Users\\julia\\AppData\\Local\\Julia-1.4.0\\share\\julia\\stdlib\\v1.4\\Distributed\\src\\macros.jl:217",
      " [4] macro expansion at C:\\Users\\julia\\AppData\\Local\\Julia-1.4.0\\share\\julia\\stdlib\\v1.4\\Distributed\\src\\macros.jl:201 [inlined]",
      " [5] RunMLEPLacExample(::Dict{Any,Any}, ::Dict{Any,Any}) at E:\\UNI\\D_Drive\\PhD\\JULIAlang\\Generalisation_PLacExample\\Examples\\Results\\PLacExample_2021-01-05\\MLEscripts\\PLacExample_MLE.jl:169",
      " [6] top-level scope at In[31]:1"
     ]
    }
   ],
   "source": [
    "RunMLEPLacExample(model_def, mle_def)"
   ]
  },
  {
   "cell_type": "code",
   "execution_count": 30,
   "metadata": {},
   "outputs": [
    {
     "data": {
      "text/plain": [
       "Future(12, 1, 1038, nothing)"
      ]
     },
     "execution_count": 30,
     "metadata": {},
     "output_type": "execute_result"
    }
   ],
   "source": [
    "@spawnat 1 mle_def\n",
    "        @spawnat 2 mle_def\n",
    "        @spawnat 3 mle_def\n",
    "        @spawnat 4 mle_def\n",
    "        @spawnat 5 mle_def\n",
    "        @spawnat 6 mle_def\n",
    "        @spawnat 7 mle_def\n",
    "        @spawnat 8 mle_def\n",
    "        @spawnat 9 mle_def\n",
    "        @spawnat 10 mle_def\n",
    "        @spawnat 11 mle_def\n",
    "        @spawnat 12 mle_def\n",
    "\n",
    "        @spawnat 1 model_def\n",
    "        @spawnat 2 model_def\n",
    "        @spawnat 3 model_def\n",
    "        @spawnat 4 model_def\n",
    "        @spawnat 5 model_def\n",
    "        @spawnat 6 model_def\n",
    "        @spawnat 7 model_def\n",
    "        @spawnat 8 model_def\n",
    "        @spawnat 9 model_def\n",
    "        @spawnat 10 model_def\n",
    "        @spawnat 11 model_def\n",
    "        @spawnat 12 model_def"
   ]
  },
  {
   "cell_type": "code",
   "execution_count": null,
   "metadata": {},
   "outputs": [],
   "source": []
  },
  {
   "cell_type": "code",
   "execution_count": null,
   "metadata": {},
   "outputs": [],
   "source": []
  },
  {
   "cell_type": "code",
   "execution_count": null,
   "metadata": {},
   "outputs": [],
   "source": []
  },
  {
   "cell_type": "code",
   "execution_count": null,
   "metadata": {},
   "outputs": [],
   "source": []
  },
  {
   "cell_type": "code",
   "execution_count": null,
   "metadata": {},
   "outputs": [],
   "source": []
  },
  {
   "cell_type": "code",
   "execution_count": null,
   "metadata": {},
   "outputs": [],
   "source": []
  },
  {
   "cell_type": "code",
   "execution_count": null,
   "metadata": {},
   "outputs": [],
   "source": []
  },
  {
   "cell_type": "code",
   "execution_count": null,
   "metadata": {},
   "outputs": [],
   "source": []
  },
  {
   "cell_type": "code",
   "execution_count": null,
   "metadata": {},
   "outputs": [],
   "source": []
  }
 ],
 "metadata": {
  "kernelspec": {
   "display_name": "Julia 1.4.0",
   "language": "julia",
   "name": "julia-1.4"
  },
  "language_info": {
   "file_extension": ".jl",
   "mimetype": "application/julia",
   "name": "julia",
   "version": "1.4.0"
  }
 },
 "nbformat": 4,
 "nbformat_minor": 4
}
